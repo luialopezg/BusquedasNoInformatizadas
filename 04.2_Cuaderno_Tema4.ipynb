{
  "cells": [
    {
      "cell_type": "markdown",
      "metadata": {
        "id": "OZPZKqwCPRK_"
      },
      "source": [
        "# Tema 4\n",
        "\n",
        "## Ejemplo de solución automática al problema de clase\n",
        "\n"
      ]
    },
    {
      "cell_type": "markdown",
      "metadata": {
        "id": "Hjc_-3loyZQY"
      },
      "source": [
        "\n",
        "Usamos para esta solución el mismo código que vemos en la actividad 1"
      ]
    },
    {
      "cell_type": "code",
      "execution_count": 1,
      "metadata": {
        "colab": {
          "base_uri": "https://localhost:8080/"
        },
        "id": "QfDm3xOMWSWk",
        "outputId": "bfc5f02a-61a7-44d8-cca9-8eaf5f3bc101"
      },
      "outputs": [
        {
          "name": "stdout",
          "output_type": "stream",
          "text": [
            "Defaulting to user installation because normal site-packages is not writeable\n",
            "Requirement already satisfied: simpleai in /home/luis/.local/lib/python3.10/site-packages (0.8.3)\n",
            "Requirement already satisfied: flask in /home/luis/.local/lib/python3.10/site-packages (3.0.3)\n",
            "Requirement already satisfied: pydot in /home/luis/.local/lib/python3.10/site-packages (2.0.0)\n",
            "Requirement already satisfied: graphviz in /home/luis/.local/lib/python3.10/site-packages (0.20.3)\n",
            "Requirement already satisfied: Werkzeug>=3.0.0 in /home/luis/.local/lib/python3.10/site-packages (from flask) (3.0.3)\n",
            "Requirement already satisfied: Jinja2>=3.1.2 in /home/luis/.local/lib/python3.10/site-packages (from flask) (3.1.4)\n",
            "Requirement already satisfied: itsdangerous>=2.1.2 in /home/luis/.local/lib/python3.10/site-packages (from flask) (2.2.0)\n",
            "Requirement already satisfied: click>=8.1.3 in /home/luis/.local/lib/python3.10/site-packages (from flask) (8.1.7)\n",
            "Requirement already satisfied: blinker>=1.6.2 in /home/luis/.local/lib/python3.10/site-packages (from flask) (1.8.2)\n",
            "Requirement already satisfied: pyparsing>=3 in /home/luis/.local/lib/python3.10/site-packages (from pydot) (3.1.2)\n",
            "Requirement already satisfied: MarkupSafe>=2.0 in /home/luis/.local/lib/python3.10/site-packages (from Jinja2>=3.1.2->flask) (2.1.5)\n"
          ]
        }
      ],
      "source": [
        "!pip install simpleai flask pydot graphviz"
      ]
    },
    {
      "cell_type": "code",
      "execution_count": 2,
      "metadata": {
        "id": "r1YQp3-4WP4N"
      },
      "outputs": [],
      "source": [
        "#!/usr/bin/env python\n",
        "# coding: utf-8\n",
        "\n",
        "# 2024 Modified by: Alejandro Cervantes\n",
        "# Remember installing pyplot and flask if you want to use WebViewer\n",
        "\n",
        "# NOTA: WebViewer sólo funcionará si ejecutáis en modo local\n",
        "\n",
        "from __future__ import print_function\n",
        "\n",
        "import math, json\n",
        "from simpleai.search.viewers import BaseViewer,ConsoleViewer,WebViewer\n",
        "from simpleai.search import SearchProblem, astar, breadth_first, depth_first, uniform_cost\n",
        "\n",
        "'''\n",
        "Esta clase espera un grafo expresado en JSON de la siguiente forma\n",
        "\n",
        "{\n",
        "  \"origen1\": { \"destino1\": coste1 , \"destino2\": coste2 , ... },\n",
        "  \"origen2\": ...,\n",
        "  ...\n",
        "}\n",
        "\n",
        "'''\n",
        "class StaticGraphSearch(SearchProblem):\n",
        "\n",
        "    def __init__(self, graph, initial, goals, heuristic_number=1, reverse_order=False):\n",
        "        self.graph = json.loads(graph) # Transforms to python object\n",
        "        self.goals = goals\n",
        "        self.initial = initial\n",
        "        self.heuristic_number = heuristic_number\n",
        "        self.reverse_order = reverse_order\n",
        "        self.node_graph = self.node_graph()\n",
        "\n",
        "        super(StaticGraphSearch, self).__init__(initial_state=self.initial)\n",
        "\n",
        "    def graph_successors(self,node):\n",
        "        list_of_successors = list(k for k in self.graph[node].keys())\n",
        "        if self.reverse_order:\n",
        "          list_of_successors.reverse()\n",
        "        return list_of_successors\n",
        "#        return [k for k in self.graph[node].keys()]\n",
        "\n",
        "    def node_graph(self):\n",
        "        return { k:self.graph_successors(k) for k in self.graph.keys() }\n",
        "\n",
        "    '''\n",
        "    Guardaremos como acción la tupla (origen, destino)\n",
        "    '''\n",
        "    def actions(self, state):\n",
        "        actions = []\n",
        "        for destiny in list(self.node_graph[state]):\n",
        "          actions.append((state,destiny))\n",
        "        return actions\n",
        "\n",
        "    def result(self, state, action):\n",
        "      if state == action[0]:\n",
        "        return action[1]\n",
        "      else:\n",
        "        raise Exception(\"result: Invalid pair state, action: state: {} action: {}\".format(state,action))\n",
        "\n",
        "    def is_goal(self, state):\n",
        "        return state in self.goals\n",
        "\n",
        "    '''\n",
        "    Asumimos que la acción tiene formato: (origen,destino)\n",
        "    '''\n",
        "    def cost(self, state, action, state2):\n",
        "      if state == action[0] and state2 == action[1]:\n",
        "        return self.graph[state][action[1]]\n",
        "      else:\n",
        "        raise Exception(\"cost: Invalid state, action, state2: state: {} action: {} state2: {}\".format(state,action,state2))\n",
        "\n",
        "    # Esta función heurística es la distancia entre el estado actual\n",
        "    # un objetivo identificado como self.goals\n",
        "    # Se pueden programar varias y seleccionarlas al crear el objeto\n",
        "    def heuristic(self,state):\n",
        "      if self.heuristic_number == 1:\n",
        "        return 0\n",
        "      else:\n",
        "        return 0\n",
        "\n",
        "\n",
        "\n",
        "\n"
      ]
    },
    {
      "cell_type": "markdown",
      "metadata": {
        "id": "1JGwM9_UhNzM"
      },
      "source": [
        "Las siguientes funciones sirven para obtener la solución y las estadísticas de la búsqueda, y mostrarlas en la salida."
      ]
    },
    {
      "cell_type": "code",
      "execution_count": 3,
      "metadata": {
        "id": "QRok6WxoZhnY"
      },
      "outputs": [],
      "source": [
        "def searchInfo (problem,result,use_viewer):\n",
        "    def getTotalCost (problem,result):\n",
        "        originState = problem.initial_state\n",
        "        totalCost = 0\n",
        "        for action,endingState in result.path():\n",
        "            if action is not None:\n",
        "                totalCost += problem.cost(originState,action,endingState)\n",
        "                originState = endingState\n",
        "        return totalCost\n",
        "\n",
        "\n",
        "    res = \"Total length of solution in nodes: {0}\\n\".format(len(result.path()))\n",
        "    res += \"Total length of solution in actions: {0}\\n\".format(len(result.path())-1)\n",
        "    res += \"Total cost of solution: {0}\\n\".format(getTotalCost(problem,result))\n",
        "\n",
        "    if use_viewer:\n",
        "        stats = [{'name': stat.replace('_', ' '), 'value': value}\n",
        "                         for stat, value in list(use_viewer.stats.items())]\n",
        "\n",
        "        for s in stats:\n",
        "            res+= '{0}: {1}\\n'.format(s['name'],s['value'])\n",
        "    return res"
      ]
    },
    {
      "cell_type": "code",
      "execution_count": 4,
      "metadata": {
        "id": "_Q1IS7WQZG7c"
      },
      "outputs": [],
      "source": [
        "def resultado_experimento(problem,result,used_viewer):\n",
        "    path = [x[1] for x in result.path()] # x[0] contiene la acción, x[1] contiene el destino\n",
        "    print ('La solución encontrada es: ', path)\n",
        "    print ('Información sobre la búsqueda: ')\n",
        "    info=searchInfo(problem,result,used_viewer)\n",
        "    print(info)"
      ]
    },
    {
      "cell_type": "markdown",
      "metadata": {
        "id": "1cBFp3rzhVpo"
      },
      "source": [
        "El programa main crea el objeto problema y ejecuta la lista de algoritmos pasada como parámetro."
      ]
    },
    {
      "cell_type": "code",
      "execution_count": 5,
      "metadata": {
        "id": "5nPJN4xLYoEl"
      },
      "outputs": [],
      "source": [
        "def main(problem_graph,initial,goals,algorithms,heuristic_number=1,reverse_order=False):\n",
        "    for algorithm in algorithms:\n",
        "      problem = StaticGraphSearch(problem_graph,initial,goals,heuristic_number,reverse_order)\n",
        "      used_viewer=BaseViewer()\n",
        "      # Probad también ConsoleViewer para depurar\n",
        "      # No podréis usar WebViewer en Collab para ver los árboles\n",
        "\n",
        "      # Mostramos los experimentos\n",
        "      print (\"Experimento con algoritmo {}:\".format(algorithm))\n",
        "\n",
        "      result = algorithm(problem, graph_search=True,viewer=used_viewer)\n",
        "\n",
        "      resultado_experimento(problem,result,used_viewer)\n"
      ]
    },
    {
      "cell_type": "markdown",
      "metadata": {
        "id": "tUrRx6TohewK"
      },
      "source": [
        "Ejemplo sencillo de ejecución"
      ]
    },
    {
      "cell_type": "code",
      "execution_count": 6,
      "metadata": {
        "id": "o8LDD49GYuLX"
      },
      "outputs": [
        {
          "name": "stdout",
          "output_type": "stream",
          "text": [
            "Experimento con algoritmo <function breadth_first at 0x7fb7841a5120>:\n",
            "La solución encontrada es:  ['a', 'd']\n",
            "Información sobre la búsqueda: \n",
            "Total length of solution in nodes: 2\n",
            "Total length of solution in actions: 1\n",
            "Total cost of solution: 4\n",
            "max fringe size: 3\n",
            "visited nodes: 4\n",
            "iterations: 4\n",
            "\n",
            "Experimento con algoritmo <function depth_first at 0x7fb7841a6cb0>:\n",
            "La solución encontrada es:  ['a', 'd']\n",
            "Información sobre la búsqueda: \n",
            "Total length of solution in nodes: 2\n",
            "Total length of solution in actions: 1\n",
            "Total cost of solution: 4\n",
            "max fringe size: 3\n",
            "visited nodes: 2\n",
            "iterations: 2\n",
            "\n",
            "Experimento con algoritmo <function uniform_cost at 0x7fb7841a6e60>:\n",
            "La solución encontrada es:  ['a', 'b', 'd']\n",
            "Información sobre la búsqueda: \n",
            "Total length of solution in nodes: 3\n",
            "Total length of solution in actions: 2\n",
            "Total cost of solution: 2\n",
            "max fringe size: 3\n",
            "visited nodes: 4\n",
            "iterations: 4\n",
            "\n"
          ]
        }
      ],
      "source": [
        "problem_and_costs_graph='''{\n",
        "  \"a\": { \"b\": 1 , \"c\": 1 , \"d\": 4 },\n",
        "  \"b\": { \"d\": 1 },\n",
        "  \"c\": { \"d\": 1 },\n",
        "  \"d\": { }\n",
        "}'''\n",
        "\n",
        "algorithms=(breadth_first,depth_first,uniform_cost)\n",
        "initial='a'\n",
        "goals='d'\n",
        "main (problem_and_costs_graph,initial,goals,algorithms)"
      ]
    },
    {
      "cell_type": "markdown",
      "metadata": {
        "id": "zvip-YVdhlJe"
      },
      "source": [
        "Ejemplo de la clase. Como no cambiamos el orden de generación de nodos, si ejecutamos \"profundidad\" la solución no coincide con la que mostramos en la clase."
      ]
    },
    {
      "cell_type": "code",
      "execution_count": 7,
      "metadata": {
        "id": "vfjHhDByr8ay"
      },
      "outputs": [
        {
          "name": "stdout",
          "output_type": "stream",
          "text": [
            "Experimento con algoritmo <function breadth_first at 0x7fb7841a5120>:\n",
            "La solución encontrada es:  ['s', 'c', 'g1']\n",
            "Información sobre la búsqueda: \n",
            "Total length of solution in nodes: 3\n",
            "Total length of solution in actions: 2\n",
            "Total cost of solution: 25\n",
            "max fringe size: 4\n",
            "visited nodes: 7\n",
            "iterations: 7\n",
            "\n",
            "Experimento con algoritmo <function depth_first at 0x7fb7841a6cb0>:\n",
            "La solución encontrada es:  ['s', 'c', 'g1']\n",
            "Información sobre la búsqueda: \n",
            "Total length of solution in nodes: 3\n",
            "Total length of solution in actions: 2\n",
            "Total cost of solution: 25\n",
            "max fringe size: 3\n",
            "visited nodes: 3\n",
            "iterations: 3\n",
            "\n",
            "Experimento con algoritmo <function uniform_cost at 0x7fb7841a6e60>:\n",
            "La solución encontrada es:  ['s', 'b', 'a', 'c', 'd', 'g2']\n",
            "Información sobre la búsqueda: \n",
            "Total length of solution in nodes: 6\n",
            "Total length of solution in actions: 5\n",
            "Total cost of solution: 19\n",
            "max fringe size: 3\n",
            "visited nodes: 8\n",
            "iterations: 8\n",
            "\n"
          ]
        }
      ],
      "source": [
        "problem_and_costs_graph='''{\n",
        "  \"s\": { \"b\": 1 , \"c\": 4 },\n",
        "  \"a\": { \"c\": 1 },\n",
        "  \"b\": { \"a\": 1 , \"e\" : 7 },\n",
        "  \"c\": { \"b\": 2 , \"d\": 5, \"g1\": 21 },\n",
        "  \"d\": { \"f\": 6, \"g2\": 11 },\n",
        "  \"e\": { \"d\": 3, \"f\": 10 },\n",
        "  \"f\": { },\n",
        "  \"g1\": { },\n",
        "  \"g2\": { }\n",
        "  }'''\n",
        "\n",
        "algorithms=(breadth_first,depth_first,uniform_cost)\n",
        "initial='s'\n",
        "goals=('g1','g2')\n",
        "main (problem_and_costs_graph,initial,goals,algorithms)"
      ]
    },
    {
      "cell_type": "code",
      "execution_count": 8,
      "metadata": {
        "id": "euUD26ADkvtW"
      },
      "outputs": [
        {
          "name": "stdout",
          "output_type": "stream",
          "text": [
            "Experimento con algoritmo <function breadth_first at 0x7fb7841a5120>:\n",
            "La solución encontrada es:  ['s', 'c', 'g1']\n",
            "Información sobre la búsqueda: \n",
            "Total length of solution in nodes: 3\n",
            "Total length of solution in actions: 2\n",
            "Total cost of solution: 25\n",
            "max fringe size: 4\n",
            "visited nodes: 4\n",
            "iterations: 4\n",
            "\n",
            "Experimento con algoritmo <function depth_first at 0x7fb7841a6cb0>:\n",
            "La solución encontrada es:  ['s', 'b', 'e', 'd', 'g2']\n",
            "Información sobre la búsqueda: \n",
            "Total length of solution in nodes: 5\n",
            "Total length of solution in actions: 4\n",
            "Total cost of solution: 22\n",
            "max fringe size: 3\n",
            "visited nodes: 6\n",
            "iterations: 6\n",
            "\n",
            "Experimento con algoritmo <function uniform_cost at 0x7fb7841a6e60>:\n",
            "La solución encontrada es:  ['s', 'b', 'a', 'c', 'd', 'g2']\n",
            "Información sobre la búsqueda: \n",
            "Total length of solution in nodes: 6\n",
            "Total length of solution in actions: 5\n",
            "Total cost of solution: 19\n",
            "max fringe size: 3\n",
            "visited nodes: 8\n",
            "iterations: 8\n",
            "\n"
          ]
        }
      ],
      "source": [
        "main (problem_and_costs_graph,initial,goals,algorithms,reverse_order=True)"
      ]
    }
  ],
  "metadata": {
    "colab": {
      "provenance": []
    },
    "kernelspec": {
      "display_name": "Python 3 (ipykernel)",
      "language": "python",
      "name": "python3"
    },
    "language_info": {
      "codemirror_mode": {
        "name": "ipython",
        "version": 3
      },
      "file_extension": ".py",
      "mimetype": "text/x-python",
      "name": "python",
      "nbconvert_exporter": "python",
      "pygments_lexer": "ipython3",
      "version": "3.10.12"
    }
  },
  "nbformat": 4,
  "nbformat_minor": 0
}
